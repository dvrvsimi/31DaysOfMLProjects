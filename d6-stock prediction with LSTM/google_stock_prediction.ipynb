{
  "nbformat": 4,
  "nbformat_minor": 0,
  "metadata": {
    "colab": {
      "provenance": []
    },
    "kernelspec": {
      "name": "python3",
      "display_name": "Python 3"
    },
    "language_info": {
      "name": "python"
    }
  },
  "cells": [
    {
      "cell_type": "markdown",
      "source": [
        "# google stock prediction using LSTM networks"
      ],
      "metadata": {
        "id": "j4LV82ef_lSz"
      }
    },
    {
      "cell_type": "code",
      "source": [
        "import numpy as np\n",
        "import pandas as pd\n",
        "import matplotlib.pyplot as plt\n",
        "from sklearn.preprocessing import MinMaxScaler\n",
        "from keras.models import Sequential # for analyzing sequential data\n",
        "from keras.layers import Dense,LSTM,Dropout"
      ],
      "metadata": {
        "id": "VAs--r05_kqR"
      },
      "execution_count": null,
      "outputs": []
    },
    {
      "cell_type": "code",
      "source": [
        "data = pd.read_csv('/content/Google_train_data.csv')\n",
        "data.head()"
      ],
      "metadata": {
        "colab": {
          "base_uri": "https://localhost:8080/",
          "height": 206
        },
        "id": "UUwGZIUdliUT",
        "outputId": "0bc85072-dff6-49d8-97ff-8df339a11036"
      },
      "execution_count": null,
      "outputs": [
        {
          "output_type": "execute_result",
          "data": {
            "text/plain": [
              "       Date    Open    High     Low   Close      Volume\n",
              "0  1/3/2012  325.25  332.83  324.97  663.59   7,380,500\n",
              "1  1/4/2012  331.27  333.87  329.08  666.45   5,749,400\n",
              "2  1/5/2012  329.83  330.75  326.89  657.21   6,590,300\n",
              "3  1/6/2012  328.34  328.77  323.68  648.24   5,405,900\n",
              "4  1/9/2012  322.04  322.29  309.46  620.76  11,688,800"
            ],
            "text/html": [
              "\n",
              "\n",
              "  <div id=\"df-d50972f3-2d93-40b3-bc88-5018be7b3df0\">\n",
              "    <div class=\"colab-df-container\">\n",
              "      <div>\n",
              "<style scoped>\n",
              "    .dataframe tbody tr th:only-of-type {\n",
              "        vertical-align: middle;\n",
              "    }\n",
              "\n",
              "    .dataframe tbody tr th {\n",
              "        vertical-align: top;\n",
              "    }\n",
              "\n",
              "    .dataframe thead th {\n",
              "        text-align: right;\n",
              "    }\n",
              "</style>\n",
              "<table border=\"1\" class=\"dataframe\">\n",
              "  <thead>\n",
              "    <tr style=\"text-align: right;\">\n",
              "      <th></th>\n",
              "      <th>Date</th>\n",
              "      <th>Open</th>\n",
              "      <th>High</th>\n",
              "      <th>Low</th>\n",
              "      <th>Close</th>\n",
              "      <th>Volume</th>\n",
              "    </tr>\n",
              "  </thead>\n",
              "  <tbody>\n",
              "    <tr>\n",
              "      <th>0</th>\n",
              "      <td>1/3/2012</td>\n",
              "      <td>325.25</td>\n",
              "      <td>332.83</td>\n",
              "      <td>324.97</td>\n",
              "      <td>663.59</td>\n",
              "      <td>7,380,500</td>\n",
              "    </tr>\n",
              "    <tr>\n",
              "      <th>1</th>\n",
              "      <td>1/4/2012</td>\n",
              "      <td>331.27</td>\n",
              "      <td>333.87</td>\n",
              "      <td>329.08</td>\n",
              "      <td>666.45</td>\n",
              "      <td>5,749,400</td>\n",
              "    </tr>\n",
              "    <tr>\n",
              "      <th>2</th>\n",
              "      <td>1/5/2012</td>\n",
              "      <td>329.83</td>\n",
              "      <td>330.75</td>\n",
              "      <td>326.89</td>\n",
              "      <td>657.21</td>\n",
              "      <td>6,590,300</td>\n",
              "    </tr>\n",
              "    <tr>\n",
              "      <th>3</th>\n",
              "      <td>1/6/2012</td>\n",
              "      <td>328.34</td>\n",
              "      <td>328.77</td>\n",
              "      <td>323.68</td>\n",
              "      <td>648.24</td>\n",
              "      <td>5,405,900</td>\n",
              "    </tr>\n",
              "    <tr>\n",
              "      <th>4</th>\n",
              "      <td>1/9/2012</td>\n",
              "      <td>322.04</td>\n",
              "      <td>322.29</td>\n",
              "      <td>309.46</td>\n",
              "      <td>620.76</td>\n",
              "      <td>11,688,800</td>\n",
              "    </tr>\n",
              "  </tbody>\n",
              "</table>\n",
              "</div>\n",
              "      <button class=\"colab-df-convert\" onclick=\"convertToInteractive('df-d50972f3-2d93-40b3-bc88-5018be7b3df0')\"\n",
              "              title=\"Convert this dataframe to an interactive table.\"\n",
              "              style=\"display:none;\">\n",
              "\n",
              "  <svg xmlns=\"http://www.w3.org/2000/svg\" height=\"24px\"viewBox=\"0 0 24 24\"\n",
              "       width=\"24px\">\n",
              "    <path d=\"M0 0h24v24H0V0z\" fill=\"none\"/>\n",
              "    <path d=\"M18.56 5.44l.94 2.06.94-2.06 2.06-.94-2.06-.94-.94-2.06-.94 2.06-2.06.94zm-11 1L8.5 8.5l.94-2.06 2.06-.94-2.06-.94L8.5 2.5l-.94 2.06-2.06.94zm10 10l.94 2.06.94-2.06 2.06-.94-2.06-.94-.94-2.06-.94 2.06-2.06.94z\"/><path d=\"M17.41 7.96l-1.37-1.37c-.4-.4-.92-.59-1.43-.59-.52 0-1.04.2-1.43.59L10.3 9.45l-7.72 7.72c-.78.78-.78 2.05 0 2.83L4 21.41c.39.39.9.59 1.41.59.51 0 1.02-.2 1.41-.59l7.78-7.78 2.81-2.81c.8-.78.8-2.07 0-2.86zM5.41 20L4 18.59l7.72-7.72 1.47 1.35L5.41 20z\"/>\n",
              "  </svg>\n",
              "      </button>\n",
              "\n",
              "\n",
              "\n",
              "    <div id=\"df-3e4c21f8-3a85-430d-8a55-244398beaebf\">\n",
              "      <button class=\"colab-df-quickchart\" onclick=\"quickchart('df-3e4c21f8-3a85-430d-8a55-244398beaebf')\"\n",
              "              title=\"Suggest charts.\"\n",
              "              style=\"display:none;\">\n",
              "\n",
              "<svg xmlns=\"http://www.w3.org/2000/svg\" height=\"24px\"viewBox=\"0 0 24 24\"\n",
              "     width=\"24px\">\n",
              "    <g>\n",
              "        <path d=\"M19 3H5c-1.1 0-2 .9-2 2v14c0 1.1.9 2 2 2h14c1.1 0 2-.9 2-2V5c0-1.1-.9-2-2-2zM9 17H7v-7h2v7zm4 0h-2V7h2v10zm4 0h-2v-4h2v4z\"/>\n",
              "    </g>\n",
              "</svg>\n",
              "      </button>\n",
              "    </div>\n",
              "\n",
              "<style>\n",
              "  .colab-df-quickchart {\n",
              "    background-color: #E8F0FE;\n",
              "    border: none;\n",
              "    border-radius: 50%;\n",
              "    cursor: pointer;\n",
              "    display: none;\n",
              "    fill: #1967D2;\n",
              "    height: 32px;\n",
              "    padding: 0 0 0 0;\n",
              "    width: 32px;\n",
              "  }\n",
              "\n",
              "  .colab-df-quickchart:hover {\n",
              "    background-color: #E2EBFA;\n",
              "    box-shadow: 0px 1px 2px rgba(60, 64, 67, 0.3), 0px 1px 3px 1px rgba(60, 64, 67, 0.15);\n",
              "    fill: #174EA6;\n",
              "  }\n",
              "\n",
              "  [theme=dark] .colab-df-quickchart {\n",
              "    background-color: #3B4455;\n",
              "    fill: #D2E3FC;\n",
              "  }\n",
              "\n",
              "  [theme=dark] .colab-df-quickchart:hover {\n",
              "    background-color: #434B5C;\n",
              "    box-shadow: 0px 1px 3px 1px rgba(0, 0, 0, 0.15);\n",
              "    filter: drop-shadow(0px 1px 2px rgba(0, 0, 0, 0.3));\n",
              "    fill: #FFFFFF;\n",
              "  }\n",
              "</style>\n",
              "\n",
              "    <script>\n",
              "      async function quickchart(key) {\n",
              "        const containerElement = document.querySelector('#' + key);\n",
              "        const charts = await google.colab.kernel.invokeFunction(\n",
              "            'suggestCharts', [key], {});\n",
              "      }\n",
              "    </script>\n",
              "\n",
              "      <script>\n",
              "\n",
              "function displayQuickchartButton(domScope) {\n",
              "  let quickchartButtonEl =\n",
              "    domScope.querySelector('#df-3e4c21f8-3a85-430d-8a55-244398beaebf button.colab-df-quickchart');\n",
              "  quickchartButtonEl.style.display =\n",
              "    google.colab.kernel.accessAllowed ? 'block' : 'none';\n",
              "}\n",
              "\n",
              "        displayQuickchartButton(document);\n",
              "      </script>\n",
              "      <style>\n",
              "    .colab-df-container {\n",
              "      display:flex;\n",
              "      flex-wrap:wrap;\n",
              "      gap: 12px;\n",
              "    }\n",
              "\n",
              "    .colab-df-convert {\n",
              "      background-color: #E8F0FE;\n",
              "      border: none;\n",
              "      border-radius: 50%;\n",
              "      cursor: pointer;\n",
              "      display: none;\n",
              "      fill: #1967D2;\n",
              "      height: 32px;\n",
              "      padding: 0 0 0 0;\n",
              "      width: 32px;\n",
              "    }\n",
              "\n",
              "    .colab-df-convert:hover {\n",
              "      background-color: #E2EBFA;\n",
              "      box-shadow: 0px 1px 2px rgba(60, 64, 67, 0.3), 0px 1px 3px 1px rgba(60, 64, 67, 0.15);\n",
              "      fill: #174EA6;\n",
              "    }\n",
              "\n",
              "    [theme=dark] .colab-df-convert {\n",
              "      background-color: #3B4455;\n",
              "      fill: #D2E3FC;\n",
              "    }\n",
              "\n",
              "    [theme=dark] .colab-df-convert:hover {\n",
              "      background-color: #434B5C;\n",
              "      box-shadow: 0px 1px 3px 1px rgba(0, 0, 0, 0.15);\n",
              "      filter: drop-shadow(0px 1px 2px rgba(0, 0, 0, 0.3));\n",
              "      fill: #FFFFFF;\n",
              "    }\n",
              "  </style>\n",
              "\n",
              "      <script>\n",
              "        const buttonEl =\n",
              "          document.querySelector('#df-d50972f3-2d93-40b3-bc88-5018be7b3df0 button.colab-df-convert');\n",
              "        buttonEl.style.display =\n",
              "          google.colab.kernel.accessAllowed ? 'block' : 'none';\n",
              "\n",
              "        async function convertToInteractive(key) {\n",
              "          const element = document.querySelector('#df-d50972f3-2d93-40b3-bc88-5018be7b3df0');\n",
              "          const dataTable =\n",
              "            await google.colab.kernel.invokeFunction('convertToInteractive',\n",
              "                                                     [key], {});\n",
              "          if (!dataTable) return;\n",
              "\n",
              "          const docLinkHtml = 'Like what you see? Visit the ' +\n",
              "            '<a target=\"_blank\" href=https://colab.research.google.com/notebooks/data_table.ipynb>data table notebook</a>'\n",
              "            + ' to learn more about interactive tables.';\n",
              "          element.innerHTML = '';\n",
              "          dataTable['output_type'] = 'display_data';\n",
              "          await google.colab.output.renderOutput(dataTable, element);\n",
              "          const docLink = document.createElement('div');\n",
              "          docLink.innerHTML = docLinkHtml;\n",
              "          element.appendChild(docLink);\n",
              "        }\n",
              "      </script>\n",
              "    </div>\n",
              "  </div>\n"
            ]
          },
          "metadata": {},
          "execution_count": 2
        }
      ]
    },
    {
      "cell_type": "code",
      "source": [
        "data.info()"
      ],
      "metadata": {
        "colab": {
          "base_uri": "https://localhost:8080/"
        },
        "id": "VUm02L00mEqc",
        "outputId": "bb27349b-88cd-4028-9068-7f796ea66759"
      },
      "execution_count": null,
      "outputs": [
        {
          "output_type": "stream",
          "name": "stdout",
          "text": [
            "<class 'pandas.core.frame.DataFrame'>\n",
            "RangeIndex: 1258 entries, 0 to 1257\n",
            "Data columns (total 6 columns):\n",
            " #   Column  Non-Null Count  Dtype  \n",
            "---  ------  --------------  -----  \n",
            " 0   Date    1258 non-null   object \n",
            " 1   Open    1258 non-null   float64\n",
            " 2   High    1258 non-null   float64\n",
            " 3   Low     1258 non-null   float64\n",
            " 4   Close   1258 non-null   object \n",
            " 5   Volume  1258 non-null   object \n",
            "dtypes: float64(3), object(3)\n",
            "memory usage: 59.1+ KB\n"
          ]
        }
      ]
    },
    {
      "cell_type": "code",
      "source": [
        "data[\"Close\"] = pd.to_numeric(data.Close,errors='coerce') # makes all the column elements floats\n",
        "data = data.dropna() # drops null values\n",
        "trainData = data.iloc[:,4:5].values # creating a new df for training data"
      ],
      "metadata": {
        "id": "toH5TfNd-U0e"
      },
      "execution_count": null,
      "outputs": []
    },
    {
      "cell_type": "code",
      "source": [
        "scaler = MinMaxScaler(feature_range=(0,1)) # doing some form of normalization\n",
        "trainData = scaler.fit_transform(trainData)\n",
        "trainData.shape"
      ],
      "metadata": {
        "colab": {
          "base_uri": "https://localhost:8080/"
        },
        "id": "l6TtE2-kmEaJ",
        "outputId": "06e5539a-3496-4d62-ccbd-be05f50852df"
      },
      "execution_count": null,
      "outputs": [
        {
          "output_type": "execute_result",
          "data": {
            "text/plain": [
              "(1149, 1)"
            ]
          },
          "metadata": {},
          "execution_count": 6
        }
      ]
    },
    {
      "cell_type": "code",
      "source": [
        "X_train = []\n",
        "y_train = []\n",
        "\n",
        "for i in range (60,1149): #60 : timestep // 1149 : length of the data\n",
        "    X_train.append(trainData[i-60:i,0])\n",
        "    y_train.append(trainData[i,0])\n",
        "\n",
        "X_train,y_train = np.array(X_train),np.array(y_train)"
      ],
      "metadata": {
        "id": "tanYTICOmENE"
      },
      "execution_count": null,
      "outputs": []
    },
    {
      "cell_type": "code",
      "source": [
        "model = Sequential()\n",
        "\n",
        "# creating a 4-layer LSTM network with unit steps of 100 and a dropout layer to prevent overfitting\n",
        "model.add(LSTM(units=100, return_sequences = True, input_shape =(X_train.shape[1],1)))\n",
        "model.add(Dropout(0.2))\n",
        "\n",
        "model.add(LSTM(units=100, return_sequences = True))\n",
        "model.add(Dropout(0.2))\n",
        "\n",
        "model.add(LSTM(units=100, return_sequences = True))\n",
        "model.add(Dropout(0.2))\n",
        "\n",
        "model.add(LSTM(units=100, return_sequences = False))\n",
        "model.add(Dropout(0.2))\n",
        "\n",
        "model.add(Dense(units =1))\n",
        "model.compile(optimizer='adam',loss=\"mean_squared_error\") # compiled on adam optimizer and mse loss function"
      ],
      "metadata": {
        "id": "Kty5rXPVpnEt"
      },
      "execution_count": null,
      "outputs": []
    },
    {
      "cell_type": "code",
      "source": [
        "hist = model.fit(X_train, y_train, epochs = 20, batch_size = 32, verbose=2)"
      ],
      "metadata": {
        "colab": {
          "base_uri": "https://localhost:8080/"
        },
        "id": "w83aaZ6Ppm-g",
        "outputId": "9a80bf10-47e2-449b-8417-5d0657d555e5"
      },
      "execution_count": null,
      "outputs": [
        {
          "output_type": "stream",
          "name": "stdout",
          "text": [
            "Epoch 1/20\n",
            "35/35 - 17s - loss: 0.0400 - 17s/epoch - 476ms/step\n",
            "Epoch 2/20\n",
            "35/35 - 7s - loss: 0.0120 - 7s/epoch - 211ms/step\n",
            "Epoch 3/20\n",
            "35/35 - 9s - loss: 0.0125 - 9s/epoch - 247ms/step\n",
            "Epoch 4/20\n",
            "35/35 - 9s - loss: 0.0098 - 9s/epoch - 254ms/step\n",
            "Epoch 5/20\n",
            "35/35 - 8s - loss: 0.0077 - 8s/epoch - 241ms/step\n",
            "Epoch 6/20\n",
            "35/35 - 9s - loss: 0.0076 - 9s/epoch - 253ms/step\n",
            "Epoch 7/20\n",
            "35/35 - 9s - loss: 0.0076 - 9s/epoch - 248ms/step\n",
            "Epoch 8/20\n",
            "35/35 - 7s - loss: 0.0060 - 7s/epoch - 210ms/step\n",
            "Epoch 9/20\n",
            "35/35 - 9s - loss: 0.0061 - 9s/epoch - 243ms/step\n",
            "Epoch 10/20\n",
            "35/35 - 8s - loss: 0.0077 - 8s/epoch - 240ms/step\n",
            "Epoch 11/20\n",
            "35/35 - 7s - loss: 0.0058 - 7s/epoch - 214ms/step\n",
            "Epoch 12/20\n",
            "35/35 - 9s - loss: 0.0058 - 9s/epoch - 254ms/step\n",
            "Epoch 13/20\n",
            "35/35 - 9s - loss: 0.0056 - 9s/epoch - 244ms/step\n",
            "Epoch 14/20\n",
            "35/35 - 8s - loss: 0.0067 - 8s/epoch - 225ms/step\n",
            "Epoch 15/20\n",
            "35/35 - 9s - loss: 0.0056 - 9s/epoch - 250ms/step\n",
            "Epoch 16/20\n",
            "35/35 - 8s - loss: 0.0048 - 8s/epoch - 217ms/step\n",
            "Epoch 17/20\n",
            "35/35 - 9s - loss: 0.0047 - 9s/epoch - 245ms/step\n",
            "Epoch 18/20\n",
            "35/35 - 9s - loss: 0.0044 - 9s/epoch - 244ms/step\n",
            "Epoch 19/20\n",
            "35/35 - 7s - loss: 0.0056 - 7s/epoch - 211ms/step\n",
            "Epoch 20/20\n",
            "35/35 - 9s - loss: 0.0041 - 9s/epoch - 245ms/step\n"
          ]
        }
      ]
    },
    {
      "cell_type": "code",
      "source": [
        "plt.plot(hist.history['loss'])\n",
        "plt.title('Training model loss')\n",
        "plt.ylabel('loss')\n",
        "plt.xlabel('epoch')\n",
        "plt.legend(['train'], loc='upper left')\n",
        "plt.show()"
      ],
      "metadata": {
        "colab": {
          "base_uri": "https://localhost:8080/",
          "height": 472
        },
        "id": "3LwwQAyFpm6L",
        "outputId": "fd794e49-5338-4d6f-e9ef-a0801504d39e"
      },
      "execution_count": null,
      "outputs": [
        {
          "output_type": "display_data",
          "data": {
            "text/plain": [
              "<Figure size 640x480 with 1 Axes>"
            ],
            "image/png": "[encoded data removed]"
          },
          "metadata": {}
        }
      ]
    },
    {
      "cell_type": "code",
      "source": [
        "# similarly...\n",
        "testData = pd.read_csv('/content/Google_test_data.csv')\n",
        "testData[\"Close\"] = pd.to_numeric(testData.Close,errors='coerce')\n",
        "testData = testData.dropna()\n",
        "testData = testData.iloc[:,4:5]\n",
        "y_test = testData.iloc[60:,0:].values"
      ],
      "metadata": {
        "id": "uw8AFt6spmxe"
      },
      "execution_count": null,
      "outputs": []
    },
    {
      "cell_type": "code",
      "source": [
        "#input array for the model\n",
        "inputClosing = testData.iloc[:,0:].values\n",
        "inputClosing_scaled = scaler.transform(inputClosing)\n",
        "inputClosing_scaled.shape\n",
        "X_test = []\n",
        "length = len(testData)"
      ],
      "metadata": {
        "id": "LtdQ6Kr4Enkz"
      },
      "execution_count": null,
      "outputs": []
    },
    {
      "cell_type": "code",
      "source": [
        "timestep = 60\n",
        "for i in range(timestep,length):\n",
        "    X_test.append(inputClosing_scaled[i-timestep:i,0])\n",
        "X_test = np.array(X_test)\n",
        "X_test = np.reshape(X_test,(X_test.shape[0],X_test.shape[1],1))\n",
        "X_test.shape"
      ],
      "metadata": {
        "colab": {
          "base_uri": "https://localhost:8080/"
        },
        "id": "1Lf3l3a4ErC9",
        "outputId": "bad2bc83-fe86-48f3-9b99-d8c470e7f24a"
      },
      "execution_count": null,
      "outputs": [
        {
          "output_type": "execute_result",
          "data": {
            "text/plain": [
              "(192, 60, 1)"
            ]
          },
          "metadata": {},
          "execution_count": 25
        }
      ]
    },
    {
      "cell_type": "code",
      "source": [
        "y_pred = model.predict(X_test)\n",
        "y_pred"
      ],
      "metadata": {
        "colab": {
          "base_uri": "https://localhost:8080/"
        },
        "id": "eWvuMohTpmpa",
        "outputId": "9c240e19-46f8-460c-e50f-b157109c7311"
      },
      "execution_count": null,
      "outputs": [
        {
          "output_type": "stream",
          "name": "stdout",
          "text": [
            "6/6 [==============================] - 2s 73ms/step\n"
          ]
        },
        {
          "output_type": "execute_result",
          "data": {
            "text/plain": [
              "array([[1.1154197],\n",
              "       [1.1176362],\n",
              "       [1.1302243],\n",
              "       [1.1484025],\n",
              "       [1.1606283],\n",
              "       [1.1554451],\n",
              "       [1.1363465],\n",
              "       [1.1150112],\n",
              "       [1.1049681],\n",
              "       [1.1062623],\n",
              "       [1.1019299],\n",
              "       [1.0913512],\n",
              "       [1.0823057],\n",
              "       [1.074162 ],\n",
              "       [1.0746871],\n",
              "       [1.0819814],\n",
              "       [1.1039859],\n",
              "       [1.1354442],\n",
              "       [1.1682081],\n",
              "       [1.1979542],\n",
              "       [1.2028803],\n",
              "       [1.1907132],\n",
              "       [1.1623132],\n",
              "       [1.128993 ],\n",
              "       [1.1042036],\n",
              "       [1.0955448],\n",
              "       [1.0998487],\n",
              "       [1.1048807],\n",
              "       [1.0986464],\n",
              "       [1.0868441],\n",
              "       [1.0738838],\n",
              "       [1.0595187],\n",
              "       [1.0376828],\n",
              "       [1.0115485],\n",
              "       [1.0051657],\n",
              "       [1.0216213],\n",
              "       [1.049394 ],\n",
              "       [1.0763397],\n",
              "       [1.0983922],\n",
              "       [1.1047703],\n",
              "       [1.1128172],\n",
              "       [1.1256222],\n",
              "       [1.1421428],\n",
              "       [1.1572946],\n",
              "       [1.1661777],\n",
              "       [1.1642069],\n",
              "       [1.1505109],\n",
              "       [1.1410507],\n",
              "       [1.1412776],\n",
              "       [1.1513512],\n",
              "       [1.1683841],\n",
              "       [1.1777495],\n",
              "       [1.1781881],\n",
              "       [1.1724485],\n",
              "       [1.1697775],\n",
              "       [1.1654367],\n",
              "       [1.1561307],\n",
              "       [1.1529518],\n",
              "       [1.1656747],\n",
              "       [1.1872796],\n",
              "       [1.2154987],\n",
              "       [1.2468616],\n",
              "       [1.2642356],\n",
              "       [1.2599427],\n",
              "       [1.2400433],\n",
              "       [1.2153797],\n",
              "       [1.20268  ],\n",
              "       [1.203031 ],\n",
              "       [1.2117357],\n",
              "       [1.2202936],\n",
              "       [1.2268019],\n",
              "       [1.2292379],\n",
              "       [1.2229366],\n",
              "       [1.2154043],\n",
              "       [1.2101003],\n",
              "       [1.2096156],\n",
              "       [1.2130604],\n",
              "       [1.2193044],\n",
              "       [1.2326968],\n",
              "       [1.251679 ],\n",
              "       [1.2749537],\n",
              "       [1.295106 ],\n",
              "       [1.302987 ],\n",
              "       [1.2993107],\n",
              "       [1.3005171],\n",
              "       [1.3140204],\n",
              "       [1.3338243],\n",
              "       [1.3492496],\n",
              "       [1.356079 ],\n",
              "       [1.3554128],\n",
              "       [1.3555111],\n",
              "       [1.3662745],\n",
              "       [1.3858176],\n",
              "       [1.396916 ],\n",
              "       [1.3923134],\n",
              "       [1.3748274],\n",
              "       [1.3495418],\n",
              "       [1.3237172],\n",
              "       [1.3054745],\n",
              "       [1.304127 ],\n",
              "       [1.3174262],\n",
              "       [1.3384655],\n",
              "       [1.3619605],\n",
              "       [1.3788913],\n",
              "       [1.3856628],\n",
              "       [1.3821088],\n",
              "       [1.3747157],\n",
              "       [1.3685193],\n",
              "       [1.3696258],\n",
              "       [1.377057 ],\n",
              "       [1.3884814],\n",
              "       [1.4027084],\n",
              "       [1.4155546],\n",
              "       [1.4285116],\n",
              "       [1.4447907],\n",
              "       [1.4571493],\n",
              "       [1.4655689],\n",
              "       [1.4729253],\n",
              "       [1.4840016],\n",
              "       [1.4590101],\n",
              "       [1.4024339],\n",
              "       [1.3381565],\n",
              "       [1.2947885],\n",
              "       [1.279298 ],\n",
              "       [1.2797441],\n",
              "       [1.2847093],\n",
              "       [1.2884032],\n",
              "       [1.2909114],\n",
              "       [1.2820565],\n",
              "       [1.262008 ],\n",
              "       [1.2539299],\n",
              "       [1.2653409],\n",
              "       [1.2827983],\n",
              "       [1.2895472],\n",
              "       [1.2884567],\n",
              "       [1.2846625],\n",
              "       [1.2776685],\n",
              "       [1.2673022],\n",
              "       [1.2568893],\n",
              "       [1.243286 ],\n",
              "       [1.2298458],\n",
              "       [1.2151833],\n",
              "       [1.1801866],\n",
              "       [1.1393739],\n",
              "       [1.1026578],\n",
              "       [1.0777488],\n",
              "       [1.0729492],\n",
              "       [1.0887007],\n",
              "       [1.1152028],\n",
              "       [1.1414791],\n",
              "       [1.1644629],\n",
              "       [1.1804484],\n",
              "       [1.1908128],\n",
              "       [1.1998274],\n",
              "       [1.2071261],\n",
              "       [1.2145293],\n",
              "       [1.2242997],\n",
              "       [1.2322519],\n",
              "       [1.2270198],\n",
              "       [1.2092625],\n",
              "       [1.1857903],\n",
              "       [1.1658602],\n",
              "       [1.158934 ],\n",
              "       [1.1678045],\n",
              "       [1.1890509],\n",
              "       [1.216834 ],\n",
              "       [1.2379032],\n",
              "       [1.2505409],\n",
              "       [1.2606952],\n",
              "       [1.270281 ],\n",
              "       [1.2781799],\n",
              "       [1.2847615],\n",
              "       [1.2902372],\n",
              "       [1.2914313],\n",
              "       [1.2887175],\n",
              "       [1.2786171],\n",
              "       [1.267397 ],\n",
              "       [1.2616167],\n",
              "       [1.258844 ],\n",
              "       [1.2557368],\n",
              "       [1.290818 ],\n",
              "       [1.3495092],\n",
              "       [1.402554 ],\n",
              "       [1.4320788],\n",
              "       [1.4355699],\n",
              "       [1.4171761],\n",
              "       [1.3749368],\n",
              "       [1.3319131],\n",
              "       [1.302344 ],\n",
              "       [1.2995315],\n",
              "       [1.3104721],\n",
              "       [1.3200407]], dtype=float32)"
            ]
          },
          "metadata": {},
          "execution_count": 26
        }
      ]
    },
    {
      "cell_type": "code",
      "source": [
        "predicted_price = scaler.inverse_transform(y_pred)"
      ],
      "metadata": {
        "id": "vQ4KrkejmD5T"
      },
      "execution_count": null,
      "outputs": []
    },
    {
      "cell_type": "code",
      "source": [
        "plt.plot(y_test, color = 'red', label = 'actual stock price')\n",
        "plt.plot(predicted_price, color = 'green', label = 'predicted stock price')\n",
        "plt.title('google stock price prediction')\n",
        "plt.xlabel('time')\n",
        "plt.ylabel('stock price')\n",
        "plt.legend()\n",
        "plt.show()"
      ],
      "metadata": {
        "colab": {
          "base_uri": "https://localhost:8080/",
          "height": 472
        },
        "id": "VnvASGS9q6IF",
        "outputId": "36808547-f4db-42d0-d1c5-6fe3c1aa328e"
      },
      "execution_count": null,
      "outputs": [
        {
          "output_type": "display_data",
          "data": {
            "text/plain": [
              "<Figure size 640x480 with 1 Axes>"
            ],
            "image/png": "[encoded data removed]"
          },
          "metadata": {}
        }
      ]
    },
    {
      "cell_type": "code",
      "source": [],
      "metadata": {
        "id": "93Btuv8fE4b8"
      },
      "execution_count": null,
      "outputs": []
    }
  ]
}