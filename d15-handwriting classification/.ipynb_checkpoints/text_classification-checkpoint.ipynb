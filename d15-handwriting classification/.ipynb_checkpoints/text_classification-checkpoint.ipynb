{
 "cells": [
  {
   "cell_type": "markdown",
   "metadata": {
    "id": "wvLsBLokm0bW"
   },
   "source": [
    "# handwriting determination with MNIST"
   ]
  },
  {
   "cell_type": "code",
   "execution_count": 2,
   "metadata": {
    "id": "RWb3gfSBdH3P"
   },
   "outputs": [],
   "source": [
    "# importing libs\n",
    "import numpy as np\n",
    "import matplotlib.pyplot as plt\n",
    "\n",
    "import keras\n",
    "from keras.datasets import mnist\n",
    "from keras.models import Sequential\n",
    "from keras.layers import Dense, Conv2D, MaxPool2D, Flatten, Dropout\n",
    "from keras.callbacks import EarlyStopping, ModelCheckpoint"
   ]
  },
  {
   "cell_type": "code",
   "execution_count": null,
   "metadata": {
    "colab": {
     "base_uri": "https://localhost:8080/"
    },
    "id": "EzcsK3SMif3c",
    "outputId": "afb1fdc5-40d3-414c-c151-9e3965ef519c"
   },
   "outputs": [],
   "source": [
    "# loading MNIST dataset\n",
    "(X_train, y_train), (X_test, y_test) = mnist.load_data()\n",
    "X_train.shape"
   ]
  },
  {
   "cell_type": "code",
   "execution_count": null,
   "metadata": {
    "colab": {
     "base_uri": "https://localhost:8080/",
     "height": 447
    },
    "id": "4xTOrvYCi6zR",
    "outputId": "a82805ec-e4d7-42f9-b617-66309ae8859c"
   },
   "outputs": [],
   "source": [
    "plt.imshow(X_train[0], cmap='binary')"
   ]
  },
  {
   "cell_type": "code",
   "execution_count": null,
   "metadata": {
    "id": "geijbIwCj5NE"
   },
   "outputs": [],
   "source": [
    "def plot_image(i):\n",
    "  plt.imshow(X_train[i], cmap='binary')\n",
    "  plt.title(y_test[i])\n",
    "  plt.show()"
   ]
  },
  {
   "cell_type": "code",
   "execution_count": null,
   "metadata": {
    "colab": {
     "base_uri": "https://localhost:8080/",
     "height": 1000
    },
    "id": "Uo2SRAc4lxV8",
    "outputId": "afac46ca-fde7-45e2-cd36-bd65d9662841"
   },
   "outputs": [],
   "source": [
    "for i in range(10):\n",
    "  plot_image(i)"
   ]
  },
  {
   "cell_type": "markdown",
   "metadata": {
    "id": "YakMJrAiuhay"
   },
   "source": [
    "# image preprocessing\n"
   ]
  },
  {
   "cell_type": "code",
   "execution_count": null,
   "metadata": {
    "id": "vjy4Sx1al5sB"
   },
   "outputs": [],
   "source": [
    "# mormalizing both train and test data(input)\n",
    "X_train = X_train.astype(np.float32)/255\n",
    "X_test = X_test.astype(np.float32)/255\n"
   ]
  },
  {
   "cell_type": "code",
   "execution_count": null,
   "metadata": {
    "colab": {
     "base_uri": "https://localhost:8080/"
    },
    "id": "UlGWlLzpv-Me",
    "outputId": "19fb9a2f-b593-4c37-eabd-7b7277e78c2e"
   },
   "outputs": [],
   "source": [
    "# reshaping the image\n",
    "X_train = np.expand_dims(X_train, -1)\n",
    "X_test = np.expand_dims(X_test, -1)\n",
    "X_train.shape"
   ]
  },
  {
   "cell_type": "code",
   "execution_count": null,
   "metadata": {
    "id": "jRLYl60Hw3Z-"
   },
   "outputs": [],
   "source": [
    "# categorizing y data\n",
    "y_train = keras.utils.to_categorical(y_train)\n",
    "y_test = keras.utils.to_categorical(y_test)"
   ]
  },
  {
   "cell_type": "markdown",
   "metadata": {
    "id": "xeVuk3W-138f"
   },
   "source": [
    "# creating a model with keras"
   ]
  },
  {
   "cell_type": "code",
   "execution_count": null,
   "metadata": {
    "id": "5HVC4OkzzA4N"
   },
   "outputs": [],
   "source": [
    "model = Sequential()\n",
    "\n",
    "model.add(Conv2D(32, (3,3), input_shape=(28, 28, 1), activation='relu'))\n",
    "model.add(MaxPool2D())\n",
    "\n",
    "model.add(Conv2D(64, (3,3), activation='relu'))\n",
    "model.add(MaxPool2D())\n",
    "\n",
    "model.add(Flatten())\n",
    "model.add(Dropout(0.5))\n",
    "\n",
    "model.add(Dense(10, activation='softmax'))"
   ]
  },
  {
   "cell_type": "code",
   "execution_count": null,
   "metadata": {
    "colab": {
     "base_uri": "https://localhost:8080/"
    },
    "id": "ob7jGil60AQQ",
    "outputId": "48ecfa7c-d0b1-4dbc-f2e9-00d494f994a9"
   },
   "outputs": [],
   "source": [
    "model.summary()"
   ]
  },
  {
   "cell_type": "code",
   "execution_count": null,
   "metadata": {
    "id": "KrU2JQSx-XAT"
   },
   "outputs": [],
   "source": [
    "# compiling the model\n",
    "model.compile(optimizer='adam', loss=keras.losses.categorical_crossentropy, metrics='accuracy')"
   ]
  },
  {
   "cell_type": "code",
   "execution_count": null,
   "metadata": {
    "id": "_x0z9G2wAQtZ"
   },
   "outputs": [],
   "source": [
    "# early stopping and checkpoint\n",
    "es = EarlyStopping(monitor='val_acc', min_delta=0.01, patience=4, verbose=1)\n",
    "\n",
    "cp = ModelCheckpoint('./bestmodel.h5', monitor='val_acc', verbose='1', save_best_only=True)\n",
    "\n",
    "# callback\n",
    "cb = [es, cp]"
   ]
  },
  {
   "cell_type": "markdown",
   "metadata": {
    "id": "b1K-MByLC8bx"
   },
   "source": [
    "# model training"
   ]
  },
  {
   "cell_type": "code",
   "execution_count": null,
   "metadata": {
    "colab": {
     "base_uri": "https://localhost:8080/",
     "height": 1000
    },
    "id": "1HFqfwK0CvhM",
    "outputId": "aca762d6-8455-45af-f79f-7abd2ec21f76"
   },
   "outputs": [],
   "source": [
    "history = model.fit(X_train, y_train, epochs=50, validation_split=0.3, callbacks = cb)\n",
    "model_s = keras.models.load_model('')"
   ]
  },
  {
   "cell_type": "code",
   "execution_count": null,
   "metadata": {
    "id": "hQOr1KCkEGnZ"
   },
   "outputs": [],
   "source": [
    "score = model_s.evaluate(X_test, y_test)\n",
    "print(f'the model accuraccy is {score[1]}')"
   ]
  }
 ],
 "metadata": {
  "colab": {
   "provenance": []
  },
  "kernelspec": {
   "display_name": "Python 3 (ipykernel)",
   "language": "python",
   "name": "python3"
  },
  "language_info": {
   "codemirror_mode": {
    "name": "ipython",
    "version": 3
   },
   "file_extension": ".py",
   "mimetype": "text/x-python",
   "name": "python",
   "nbconvert_exporter": "python",
   "pygments_lexer": "ipython3",
   "version": "3.9.12"
  }
 },
 "nbformat": 4,
 "nbformat_minor": 1
}
